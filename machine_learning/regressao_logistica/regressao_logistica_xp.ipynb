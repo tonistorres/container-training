{
 "cells": [
  {
   "cell_type": "code",
   "execution_count": 1,
   "metadata": {},
   "outputs": [],
   "source": [
    "import pandas as pd\n",
    "\n"
   ]
  },
  {
   "cell_type": "code",
   "execution_count": 4,
   "metadata": {},
   "outputs": [
    {
     "name": "stdout",
     "output_type": "stream",
     "text": [
      "   age          workclass  final-weight   education  education-num  \\\n",
      "0   39          State-gov         77516   Bachelors             13   \n",
      "1   50   Self-emp-not-inc         83311   Bachelors             13   \n",
      "2   38            Private        215646     HS-grad              9   \n",
      "3   53            Private        234721        11th              7   \n",
      "4   28            Private        338409   Bachelors             13   \n",
      "\n",
      "        marital-status          occupation    relationship    race      sex  \\\n",
      "0        Never-married        Adm-clerical   Not-in-family   White     Male   \n",
      "1   Married-civ-spouse     Exec-managerial         Husband   White     Male   \n",
      "2             Divorced   Handlers-cleaners   Not-in-family   White     Male   \n",
      "3   Married-civ-spouse   Handlers-cleaners         Husband   Black     Male   \n",
      "4   Married-civ-spouse      Prof-specialty            Wife   Black   Female   \n",
      "\n",
      "   capital-gain  capital-loos  hour-per-week  native-country  income  \n",
      "0          2174             0             40   United-States   <=50K  \n",
      "1             0             0             13   United-States   <=50K  \n",
      "2             0             0             40   United-States   <=50K  \n",
      "3             0             0             40   United-States   <=50K  \n",
      "4             0             0             40            Cuba   <=50K  \n",
      "(32561, 15)\n"
     ]
    }
   ],
   "source": [
    "\n",
    "base = pd.read_csv(\"census.csv\")\n",
    "print(base.head())\n",
    "print(base.shape)\n"
   ]
  },
  {
   "cell_type": "code",
   "execution_count": null,
   "metadata": {},
   "outputs": [],
   "source": []
  }
 ],
 "metadata": {
  "kernelspec": {
   "display_name": "Python 3.8.10 64-bit",
   "language": "python",
   "name": "python3"
  },
  "language_info": {
   "codemirror_mode": {
    "name": "ipython",
    "version": 3
   },
   "file_extension": ".py",
   "mimetype": "text/x-python",
   "name": "python",
   "nbconvert_exporter": "python",
   "pygments_lexer": "ipython3",
   "version": "3.8.10"
  },
  "orig_nbformat": 4,
  "vscode": {
   "interpreter": {
    "hash": "916dbcbb3f70747c44a77c7bcd40155683ae19c65e1c03b4aa3499c5328201f1"
   }
  }
 },
 "nbformat": 4,
 "nbformat_minor": 2
}
